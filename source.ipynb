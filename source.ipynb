{
 "cells": [
  {
   "cell_type": "code",
   "execution_count": 1,
   "metadata": {
    "ExecuteTime": {
     "end_time": "2020-01-17T05:47:02.588645Z",
     "start_time": "2020-01-17T05:47:02.408762Z"
    }
   },
   "outputs": [],
   "source": [
    "import cv2, numpy as np\n",
    "import time\n",
    "from matplotlib import pyplot as plt\n",
    "%matplotlib inline\n",
    "\n",
    "def imshow(tit, image) :\n",
    "    plt.title(tit)    \n",
    "    if len(image.shape) == 3 :\n",
    "        plt.imshow(cv2.cvtColor(image, cv2.COLOR_BGR2RGB))\n",
    "    else :\n",
    "        plt.imshow(image, cmap=\"gray\")\n",
    "    plt.show()"
   ]
  },
  {
   "cell_type": "code",
   "execution_count": 2,
   "metadata": {
    "ExecuteTime": {
     "end_time": "2020-01-17T05:47:04.631133Z",
     "start_time": "2020-01-17T05:47:04.124377Z"
    }
   },
   "outputs": [],
   "source": [
    "frame = cv2.imread(\"./mart2.jpg\")\n",
    "roi = frame.copy()\n",
    "gray = cv2.cvtColor(frame, cv2.COLOR_BGR2GRAY)\n",
    "\n",
    "gray_blur = cv2.medianBlur(gray, 9)\n",
    "\n",
    "thr, mask = cv2.threshold(gray, 0, 255,\n",
    "        cv2.THRESH_BINARY+cv2.THRESH_OTSU)\n",
    "\n",
    "#침식후 팽창\n",
    "opened = cv2.morphologyEx(mask,cv2.MORPH_OPEN,cv2.getStructuringElement(cv2.MORPH_ELLIPSE,(5,5))\n",
    "    \n",
    "                          ,iterations =10) \n",
    "\n",
    "\n",
    "cont_img = opened.copy()\n",
    "contours, _ = cv2.findContours(cont_img, cv2.RETR_EXTERNAL,\n",
    "                              cv2.CHAIN_APPROX_SIMPLE)\n"
   ]
  },
  {
   "cell_type": "code",
   "execution_count": 6,
   "metadata": {
    "ExecuteTime": {
     "end_time": "2020-01-17T05:49:08.001134Z",
     "start_time": "2020-01-17T05:49:07.987210Z"
    }
   },
   "outputs": [
    {
     "name": "stdout",
     "output_type": "stream",
     "text": [
      "[2097  558]\n",
      "[619 603]\n",
      "[ 506 3920]\n",
      "[2349 3887]\n"
     ]
    }
   ],
   "source": [
    "cnt = contours[0]\n",
    "peri = cv2.arcLength(cnt,True)\n",
    "approx = cv2.approxPolyDP(cnt,0.02* peri, True)\n",
    "frame_copy = frame.copy()\n",
    "arr = []\n",
    "for a in approx:\n",
    "    arr.append(list(a[0]))\n",
    "    print(a[0])\n"
   ]
  },
  {
   "cell_type": "code",
   "execution_count": 7,
   "metadata": {
    "ExecuteTime": {
     "end_time": "2020-01-17T05:49:48.146088Z",
     "start_time": "2020-01-17T05:49:48.140149Z"
    }
   },
   "outputs": [
    {
     "data": {
      "text/plain": [
       "array([[ 506., 3920.],\n",
       "       [2097.,  558.],\n",
       "       [ 619.,  603.],\n",
       "       [2349., 3887.]], dtype=float32)"
      ]
     },
     "execution_count": 7,
     "metadata": {},
     "output_type": "execute_result"
    }
   ],
   "source": [
    "pts1= [[0,0],[0,0],[0,0],[0,0]]\n",
    "arr=sorted(arr, key=lambda arr: [arr[0],arr[1]]) \n",
    "pts1[0]=arr[0]\n",
    "pts1[2] = arr[1]\n",
    "pts1[1] = arr[2]\n",
    "pts1[3] = arr[3]\n",
    "pts1 =np.float32(pts1)\n",
    "pts1"
   ]
  },
  {
   "cell_type": "code",
   "execution_count": 8,
   "metadata": {
    "ExecuteTime": {
     "end_time": "2020-01-17T05:50:29.944347Z",
     "start_time": "2020-01-17T05:50:29.940370Z"
    }
   },
   "outputs": [
    {
     "name": "stdout",
     "output_type": "stream",
     "text": [
      "4032 3024\n"
     ]
    }
   ],
   "source": [
    "height, width = frame.shape[:2]\n",
    "print(height, width)"
   ]
  },
  {
   "cell_type": "code",
   "execution_count": 13,
   "metadata": {
    "ExecuteTime": {
     "end_time": "2020-01-17T05:57:45.223322Z",
     "start_time": "2020-01-17T05:57:45.219335Z"
    }
   },
   "outputs": [
    {
     "name": "stdout",
     "output_type": "stream",
     "text": [
      "[[-1.13001767e+00 -3.84962304e-02  7.22694162e+02]\n",
      " [-1.51863930e+00 -7.18666008e-01  3.58560224e+03]\n",
      " [-7.44049327e-04  1.53058995e-05  1.00000000e+00]]\n"
     ]
    }
   ],
   "source": [
    "pts2 =np.float32([[0,0], [width,0], [0,height],[width,height]])\n",
    "M = cv2.getPerspectiveTransform(pts1,pts2)\n",
    "print(M)"
   ]
  },
  {
   "cell_type": "code",
   "execution_count": 14,
   "metadata": {
    "ExecuteTime": {
     "end_time": "2020-01-17T05:57:46.102306Z",
     "start_time": "2020-01-17T05:57:45.938726Z"
    }
   },
   "outputs": [
    {
     "data": {
      "text/plain": [
       "True"
      ]
     },
     "execution_count": 14,
     "metadata": {},
     "output_type": "execute_result"
    }
   ],
   "source": [
    "img_result = cv2.warpPerspective(frame,M,(width,height))\n",
    "cv2.imwrite(\"result_out2.jpg\",img_result)"
   ]
  },
  {
   "cell_type": "code",
   "execution_count": 15,
   "metadata": {
    "ExecuteTime": {
     "end_time": "2020-01-17T05:57:46.869436Z",
     "start_time": "2020-01-17T05:57:46.641981Z"
    }
   },
   "outputs": [
    {
     "name": "stdout",
     "output_type": "stream",
     "text": [
      "(4032, 3024)\n"
     ]
    },
    {
     "data": {
      "text/plain": [
       "True"
      ]
     },
     "execution_count": 15,
     "metadata": {},
     "output_type": "execute_result"
    }
   ],
   "source": [
    "gray=cv2.imread(\"result_out2.jpg\",cv2.IMREAD_GRAYSCALE)\n",
    "print(gray.shape)\n",
    "gray = cv2.medianBlur(gray, 5)\n",
    "out = cv2.adaptiveThreshold(gray,255,\n",
    "                            cv2.ADAPTIVE_THRESH_GAUSSIAN_C,\n",
    "                            cv2.THRESH_BINARY,21,2)\n",
    "#imshow('binary',out)\n",
    "cv2.imwrite('result_print.jpg',out)"
   ]
  },
  {
   "cell_type": "code",
   "execution_count": 12,
   "metadata": {
    "ExecuteTime": {
     "end_time": "2020-01-17T05:50:38.728936Z",
     "start_time": "2020-01-17T05:50:37.058820Z"
    }
   },
   "outputs": [
    {
     "name": "stdout",
     "output_type": "stream",
     "text": [
      "4  못데쇼핑(주) 못데마르 침성점\n",
      "102-05-29300       강의테\n",
      "롯데마트 호암로 1    1『나069-715-2500\n",
      "영수증 미지참시 교흰/환불 불가(30일내)\n",
      "교흰/환불 구매짐에서만기능 능(걸제카드지잠)\n",
      ": 체크키드. 취소시 대금흰급은 최대7일 소요\n",
      "[등록] 2019-08-23 12:09 005: _0074-0008\n",
      "\n",
      "이020000나에에이에에애우우에우아 고기0-==ㅁㅠㅁㅋㅁㅋ~ㅠㄷㄷㄷ = 이르\n",
      "\n",
      " \n",
      "\n",
      "상품명   ! 단 가수량 금액\n",
      "쉐프리 그노스레이크 10,900 1 _ 10,900\n",
      "과세 물품 |액          9,909\n",
      "부 {가 세         991\n",
      "합 ，계           10,900\n",
      "결제금액           10,900\n",
      "0001 비씨은련체크(80) 1452 51795151\n",
      "청구액(일시) 메 16         10900\n",
      "『「\n",
      "프     로워\n",
      "고 학이구\n",
      "꼬  느니\n",
      "5월 25일(토), 롯데워터파크\n",
      "\n",
      "아외 전면 가창:\n",
      "\n",
      "> 롯데마트 영수증 할인권 제시 시\n",
      "롯데워터피크-종일군 권 할인\n",
      "\n",
      "- 성수기(6.3\"7,.12) , 29,90(원\n",
      "\n",
      "- 극성수기(7,1378.25) ; 39,900원\n",
      "[> 잠깐! 개쿠폰맵 회원 추가 혜택\n",
      "\n",
      ". - 엠 제시시 당일 찜질방 50% 할인\n",
      "\n",
      "※ 본인 및 동반 1인까지 할인\n",
      "\n",
      "※ 롯데워터파크 고객센터 1661-2000\n",
      "\n",
      "※ 지세한샤항 매장내 고지물 참고\n",
      "\n",
      "때!\n",
      "\n",
      "(\n",
      "\n",
      "비비비비삐!\n",
      "\n",
      "74000\n",
      "롯\n"
     ]
    }
   ],
   "source": [
    "import pytesseract\n",
    "#tesseract exe 파일을 실행시키겠다\n",
    "pytesseract.pytesseract.tesseract_cmd = r'C:\\Program Files\\Tesseract-OCR\\tesseract'\n",
    "\n",
    "#저장후 불러오기\n",
    "print(pytesseract.image_to_string('mart_result.jpg', lang ='kor'))"
   ]
  },
  {
   "cell_type": "code",
   "execution_count": null,
   "metadata": {},
   "outputs": [],
   "source": []
  },
  {
   "cell_type": "code",
   "execution_count": null,
   "metadata": {},
   "outputs": [],
   "source": []
  },
  {
   "cell_type": "code",
   "execution_count": null,
   "metadata": {},
   "outputs": [],
   "source": []
  },
  {
   "cell_type": "code",
   "execution_count": null,
   "metadata": {},
   "outputs": [],
   "source": []
  }
 ],
 "metadata": {
  "kernelspec": {
   "display_name": "Python 3",
   "language": "python",
   "name": "python3"
  },
  "language_info": {
   "codemirror_mode": {
    "name": "ipython",
    "version": 3
   },
   "file_extension": ".py",
   "mimetype": "text/x-python",
   "name": "python",
   "nbconvert_exporter": "python",
   "pygments_lexer": "ipython3",
   "version": "3.7.4"
  },
  "varInspector": {
   "cols": {
    "lenName": 16,
    "lenType": 16,
    "lenVar": 40
   },
   "kernels_config": {
    "python": {
     "delete_cmd_postfix": "",
     "delete_cmd_prefix": "del ",
     "library": "var_list.py",
     "varRefreshCmd": "print(var_dic_list())"
    },
    "r": {
     "delete_cmd_postfix": ") ",
     "delete_cmd_prefix": "rm(",
     "library": "var_list.r",
     "varRefreshCmd": "cat(var_dic_list()) "
    }
   },
   "types_to_exclude": [
    "module",
    "function",
    "builtin_function_or_method",
    "instance",
    "_Feature"
   ],
   "window_display": false
  }
 },
 "nbformat": 4,
 "nbformat_minor": 2
}
